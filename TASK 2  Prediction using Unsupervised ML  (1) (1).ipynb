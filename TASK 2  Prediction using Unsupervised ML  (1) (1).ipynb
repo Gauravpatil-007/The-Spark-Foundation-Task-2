{
 "cells": [
  {
   "cell_type": "markdown",
   "id": "79b3e459",
   "metadata": {},
   "source": [
    "# The Sparks Foundation"
   ]
  },
  {
   "cell_type": "markdown",
   "id": "81a31303",
   "metadata": {},
   "source": [
    "## GRIP(Graduate Rotational Internship Program) Feb-2023"
   ]
  },
  {
   "cell_type": "markdown",
   "id": "addf3413",
   "metadata": {},
   "source": [
    "## Author : Gaurav Bhagwan Patil\n",
    "\n",
    "\n",
    "## Domain : Data Science & Business Analytics"
   ]
  },
  {
   "cell_type": "markdown",
   "id": "d0b33c3e",
   "metadata": {},
   "source": [
    "### Task 2 :-  Prediction using Unsupervised Machine Learning"
   ]
  },
  {
   "cell_type": "markdown",
   "id": "a4d1aab9",
   "metadata": {},
   "source": [
    "### Problem Statement :\n",
    "From the given ‘Iris’ dataset, predict the optimum number of clusters and represent it visually."
   ]
  },
  {
   "cell_type": "markdown",
   "id": "38c82363",
   "metadata": {},
   "source": [
    "## Importing all required libraries"
   ]
  },
  {
   "cell_type": "code",
   "execution_count": 2,
   "id": "3e6b6372",
   "metadata": {},
   "outputs": [],
   "source": [
    "import warnings as wg\n",
    "wg.filterwarnings('ignore')\n",
    "\n",
    "import pandas as pd\n",
    "import numpy as np  \n",
    "\n",
    "import matplotlib.pyplot as plt\n",
    "import seaborn as sns\n",
    "\n",
    "from sklearn import datasets\n",
    "from sklearn.metrics import silhouette_score\n",
    "from pylab import rcParams\n"
   ]
  },
  {
   "cell_type": "markdown",
   "id": "0de961c2",
   "metadata": {},
   "source": [
    "## Reading in the data from the source"
   ]
  },
  {
   "cell_type": "code",
   "execution_count": 3,
   "id": "8b03dfdc",
   "metadata": {},
   "outputs": [
    {
     "name": "stdout",
     "output_type": "stream",
     "text": [
      "Data imported Succesfully\n"
     ]
    }
   ],
   "source": [
    "data=pd.read_csv(\"C:\\\\Users\\\\Expert\\\\Desktop\\\\Iris.csv\")\n",
    "print('Data imported Succesfully')"
   ]
  },
  {
   "cell_type": "markdown",
   "id": "481ab89d",
   "metadata": {},
   "source": [
    "## Finding some properties of the data"
   ]
  },
  {
   "cell_type": "code",
   "execution_count": 4,
   "id": "b4746281",
   "metadata": {},
   "outputs": [
    {
     "data": {
      "text/html": [
       "<div>\n",
       "<style scoped>\n",
       "    .dataframe tbody tr th:only-of-type {\n",
       "        vertical-align: middle;\n",
       "    }\n",
       "\n",
       "    .dataframe tbody tr th {\n",
       "        vertical-align: top;\n",
       "    }\n",
       "\n",
       "    .dataframe thead th {\n",
       "        text-align: right;\n",
       "    }\n",
       "</style>\n",
       "<table border=\"1\" class=\"dataframe\">\n",
       "  <thead>\n",
       "    <tr style=\"text-align: right;\">\n",
       "      <th></th>\n",
       "      <th>Id</th>\n",
       "      <th>SepalLengthCm</th>\n",
       "      <th>SepalWidthCm</th>\n",
       "      <th>PetalLengthCm</th>\n",
       "      <th>PetalWidthCm</th>\n",
       "      <th>Species</th>\n",
       "    </tr>\n",
       "  </thead>\n",
       "  <tbody>\n",
       "    <tr>\n",
       "      <th>0</th>\n",
       "      <td>1</td>\n",
       "      <td>5.1</td>\n",
       "      <td>3.5</td>\n",
       "      <td>1.4</td>\n",
       "      <td>0.2</td>\n",
       "      <td>Iris-setosa</td>\n",
       "    </tr>\n",
       "    <tr>\n",
       "      <th>1</th>\n",
       "      <td>2</td>\n",
       "      <td>4.9</td>\n",
       "      <td>3.0</td>\n",
       "      <td>1.4</td>\n",
       "      <td>0.2</td>\n",
       "      <td>Iris-setosa</td>\n",
       "    </tr>\n",
       "    <tr>\n",
       "      <th>2</th>\n",
       "      <td>3</td>\n",
       "      <td>4.7</td>\n",
       "      <td>3.2</td>\n",
       "      <td>1.3</td>\n",
       "      <td>0.2</td>\n",
       "      <td>Iris-setosa</td>\n",
       "    </tr>\n",
       "    <tr>\n",
       "      <th>3</th>\n",
       "      <td>4</td>\n",
       "      <td>4.6</td>\n",
       "      <td>3.1</td>\n",
       "      <td>1.5</td>\n",
       "      <td>0.2</td>\n",
       "      <td>Iris-setosa</td>\n",
       "    </tr>\n",
       "    <tr>\n",
       "      <th>4</th>\n",
       "      <td>5</td>\n",
       "      <td>5.0</td>\n",
       "      <td>3.6</td>\n",
       "      <td>1.4</td>\n",
       "      <td>0.2</td>\n",
       "      <td>Iris-setosa</td>\n",
       "    </tr>\n",
       "  </tbody>\n",
       "</table>\n",
       "</div>"
      ],
      "text/plain": [
       "   Id  SepalLengthCm  SepalWidthCm  PetalLengthCm  PetalWidthCm      Species\n",
       "0   1            5.1           3.5            1.4           0.2  Iris-setosa\n",
       "1   2            4.9           3.0            1.4           0.2  Iris-setosa\n",
       "2   3            4.7           3.2            1.3           0.2  Iris-setosa\n",
       "3   4            4.6           3.1            1.5           0.2  Iris-setosa\n",
       "4   5            5.0           3.6            1.4           0.2  Iris-setosa"
      ]
     },
     "execution_count": 4,
     "metadata": {},
     "output_type": "execute_result"
    }
   ],
   "source": [
    "data.head()                                                          #display the first(top) 5 rows\n"
   ]
  },
  {
   "cell_type": "code",
   "execution_count": 10,
   "id": "78485d5b",
   "metadata": {},
   "outputs": [
    {
     "data": {
      "text/html": [
       "<div>\n",
       "<style scoped>\n",
       "    .dataframe tbody tr th:only-of-type {\n",
       "        vertical-align: middle;\n",
       "    }\n",
       "\n",
       "    .dataframe tbody tr th {\n",
       "        vertical-align: top;\n",
       "    }\n",
       "\n",
       "    .dataframe thead th {\n",
       "        text-align: right;\n",
       "    }\n",
       "</style>\n",
       "<table border=\"1\" class=\"dataframe\">\n",
       "  <thead>\n",
       "    <tr style=\"text-align: right;\">\n",
       "      <th></th>\n",
       "      <th>Id</th>\n",
       "      <th>SepalLengthCm</th>\n",
       "      <th>SepalWidthCm</th>\n",
       "      <th>PetalLengthCm</th>\n",
       "      <th>PetalWidthCm</th>\n",
       "      <th>Species</th>\n",
       "    </tr>\n",
       "  </thead>\n",
       "  <tbody>\n",
       "    <tr>\n",
       "      <th>145</th>\n",
       "      <td>146</td>\n",
       "      <td>6.7</td>\n",
       "      <td>3.0</td>\n",
       "      <td>5.2</td>\n",
       "      <td>2.3</td>\n",
       "      <td>Iris-virginica</td>\n",
       "    </tr>\n",
       "    <tr>\n",
       "      <th>146</th>\n",
       "      <td>147</td>\n",
       "      <td>6.3</td>\n",
       "      <td>2.5</td>\n",
       "      <td>5.0</td>\n",
       "      <td>1.9</td>\n",
       "      <td>Iris-virginica</td>\n",
       "    </tr>\n",
       "    <tr>\n",
       "      <th>147</th>\n",
       "      <td>148</td>\n",
       "      <td>6.5</td>\n",
       "      <td>3.0</td>\n",
       "      <td>5.2</td>\n",
       "      <td>2.0</td>\n",
       "      <td>Iris-virginica</td>\n",
       "    </tr>\n",
       "    <tr>\n",
       "      <th>148</th>\n",
       "      <td>149</td>\n",
       "      <td>6.2</td>\n",
       "      <td>3.4</td>\n",
       "      <td>5.4</td>\n",
       "      <td>2.3</td>\n",
       "      <td>Iris-virginica</td>\n",
       "    </tr>\n",
       "    <tr>\n",
       "      <th>149</th>\n",
       "      <td>150</td>\n",
       "      <td>5.9</td>\n",
       "      <td>3.0</td>\n",
       "      <td>5.1</td>\n",
       "      <td>1.8</td>\n",
       "      <td>Iris-virginica</td>\n",
       "    </tr>\n",
       "  </tbody>\n",
       "</table>\n",
       "</div>"
      ],
      "text/plain": [
       "      Id  SepalLengthCm  SepalWidthCm  PetalLengthCm  PetalWidthCm  \\\n",
       "145  146            6.7           3.0            5.2           2.3   \n",
       "146  147            6.3           2.5            5.0           1.9   \n",
       "147  148            6.5           3.0            5.2           2.0   \n",
       "148  149            6.2           3.4            5.4           2.3   \n",
       "149  150            5.9           3.0            5.1           1.8   \n",
       "\n",
       "            Species  \n",
       "145  Iris-virginica  \n",
       "146  Iris-virginica  \n",
       "147  Iris-virginica  \n",
       "148  Iris-virginica  \n",
       "149  Iris-virginica  "
      ]
     },
     "execution_count": 10,
     "metadata": {},
     "output_type": "execute_result"
    }
   ],
   "source": [
    "data.tail()                                                      #display the last 5 rows\n"
   ]
  },
  {
   "cell_type": "code",
   "execution_count": 5,
   "id": "5ba534e5",
   "metadata": {},
   "outputs": [
    {
     "data": {
      "text/plain": [
       "(150, 6)"
      ]
     },
     "execution_count": 5,
     "metadata": {},
     "output_type": "execute_result"
    }
   ],
   "source": [
    "data.shape"
   ]
  },
  {
   "cell_type": "markdown",
   "id": "66c8e123",
   "metadata": {},
   "source": [
    "#### There are 150 rows and 6 columns."
   ]
  },
  {
   "cell_type": "code",
   "execution_count": 27,
   "id": "34d5ea75",
   "metadata": {},
   "outputs": [
    {
     "data": {
      "text/plain": [
       "Index(['Id', 'SepalLengthCm', 'SepalWidthCm', 'PetalLengthCm', 'PetalWidthCm',\n",
       "       'Species'],\n",
       "      dtype='object')"
      ]
     },
     "execution_count": 27,
     "metadata": {},
     "output_type": "execute_result"
    }
   ],
   "source": [
    "data.columns                                                        #columns names of the data"
   ]
  },
  {
   "cell_type": "code",
   "execution_count": 6,
   "id": "31a4c73d",
   "metadata": {},
   "outputs": [
    {
     "data": {
      "text/plain": [
       "Id               0\n",
       "SepalLengthCm    0\n",
       "SepalWidthCm     0\n",
       "PetalLengthCm    0\n",
       "PetalWidthCm     0\n",
       "Species          0\n",
       "dtype: int64"
      ]
     },
     "execution_count": 6,
     "metadata": {},
     "output_type": "execute_result"
    }
   ],
   "source": [
    "data.isnull().sum()                                                  #Checking null values & Duplicates "
   ]
  },
  {
   "cell_type": "markdown",
   "id": "25d525b4",
   "metadata": {},
   "source": [
    "#### Here,there is no missing value present in dataset."
   ]
  },
  {
   "cell_type": "code",
   "execution_count": 8,
   "id": "d1548361",
   "metadata": {},
   "outputs": [
    {
     "name": "stdout",
     "output_type": "stream",
     "text": [
      "<class 'pandas.core.frame.DataFrame'>\n",
      "RangeIndex: 150 entries, 0 to 149\n",
      "Data columns (total 6 columns):\n",
      " #   Column         Non-Null Count  Dtype  \n",
      "---  ------         --------------  -----  \n",
      " 0   Id             150 non-null    int64  \n",
      " 1   SepalLengthCm  150 non-null    float64\n",
      " 2   SepalWidthCm   150 non-null    float64\n",
      " 3   PetalLengthCm  150 non-null    float64\n",
      " 4   PetalWidthCm   150 non-null    float64\n",
      " 5   Species        150 non-null    object \n",
      "dtypes: float64(4), int64(1), object(1)\n",
      "memory usage: 7.2+ KB\n"
     ]
    }
   ],
   "source": [
    "data.info()                                            #Info regarding the entir dataframe(Data types of each columns)"
   ]
  },
  {
   "cell_type": "markdown",
   "id": "df649d5b",
   "metadata": {},
   "source": [
    "#### All the datapoints are in Float except Species."
   ]
  },
  {
   "cell_type": "code",
   "execution_count": 6,
   "id": "f137d258",
   "metadata": {},
   "outputs": [
    {
     "data": {
      "text/html": [
       "<div>\n",
       "<style scoped>\n",
       "    .dataframe tbody tr th:only-of-type {\n",
       "        vertical-align: middle;\n",
       "    }\n",
       "\n",
       "    .dataframe tbody tr th {\n",
       "        vertical-align: top;\n",
       "    }\n",
       "\n",
       "    .dataframe thead th {\n",
       "        text-align: right;\n",
       "    }\n",
       "</style>\n",
       "<table border=\"1\" class=\"dataframe\">\n",
       "  <thead>\n",
       "    <tr style=\"text-align: right;\">\n",
       "      <th></th>\n",
       "      <th>count</th>\n",
       "      <th>mean</th>\n",
       "      <th>std</th>\n",
       "      <th>min</th>\n",
       "      <th>25%</th>\n",
       "      <th>50%</th>\n",
       "      <th>75%</th>\n",
       "      <th>max</th>\n",
       "    </tr>\n",
       "  </thead>\n",
       "  <tbody>\n",
       "    <tr>\n",
       "      <th>Id</th>\n",
       "      <td>150.0</td>\n",
       "      <td>75.500000</td>\n",
       "      <td>43.445368</td>\n",
       "      <td>1.0</td>\n",
       "      <td>38.25</td>\n",
       "      <td>75.50</td>\n",
       "      <td>112.75</td>\n",
       "      <td>150.0</td>\n",
       "    </tr>\n",
       "    <tr>\n",
       "      <th>SepalLengthCm</th>\n",
       "      <td>150.0</td>\n",
       "      <td>5.843333</td>\n",
       "      <td>0.828066</td>\n",
       "      <td>4.3</td>\n",
       "      <td>5.10</td>\n",
       "      <td>5.80</td>\n",
       "      <td>6.40</td>\n",
       "      <td>7.9</td>\n",
       "    </tr>\n",
       "    <tr>\n",
       "      <th>SepalWidthCm</th>\n",
       "      <td>150.0</td>\n",
       "      <td>3.054000</td>\n",
       "      <td>0.433594</td>\n",
       "      <td>2.0</td>\n",
       "      <td>2.80</td>\n",
       "      <td>3.00</td>\n",
       "      <td>3.30</td>\n",
       "      <td>4.4</td>\n",
       "    </tr>\n",
       "    <tr>\n",
       "      <th>PetalLengthCm</th>\n",
       "      <td>150.0</td>\n",
       "      <td>3.758667</td>\n",
       "      <td>1.764420</td>\n",
       "      <td>1.0</td>\n",
       "      <td>1.60</td>\n",
       "      <td>4.35</td>\n",
       "      <td>5.10</td>\n",
       "      <td>6.9</td>\n",
       "    </tr>\n",
       "    <tr>\n",
       "      <th>PetalWidthCm</th>\n",
       "      <td>150.0</td>\n",
       "      <td>1.198667</td>\n",
       "      <td>0.763161</td>\n",
       "      <td>0.1</td>\n",
       "      <td>0.30</td>\n",
       "      <td>1.30</td>\n",
       "      <td>1.80</td>\n",
       "      <td>2.5</td>\n",
       "    </tr>\n",
       "  </tbody>\n",
       "</table>\n",
       "</div>"
      ],
      "text/plain": [
       "               count       mean        std  min    25%    50%     75%    max\n",
       "Id             150.0  75.500000  43.445368  1.0  38.25  75.50  112.75  150.0\n",
       "SepalLengthCm  150.0   5.843333   0.828066  4.3   5.10   5.80    6.40    7.9\n",
       "SepalWidthCm   150.0   3.054000   0.433594  2.0   2.80   3.00    3.30    4.4\n",
       "PetalLengthCm  150.0   3.758667   1.764420  1.0   1.60   4.35    5.10    6.9\n",
       "PetalWidthCm   150.0   1.198667   0.763161  0.1   0.30   1.30    1.80    2.5"
      ]
     },
     "execution_count": 6,
     "metadata": {},
     "output_type": "execute_result"
    }
   ],
   "source": [
    "data.describe().T                                              #Displays statsticial information of dataset"
   ]
  },
  {
   "cell_type": "markdown",
   "id": "7e94178c",
   "metadata": {},
   "source": [
    "#### This table helps us understand the range of values in each of the feature"
   ]
  },
  {
   "cell_type": "markdown",
   "id": "0a023aae",
   "metadata": {},
   "source": [
    "## Dropping column"
   ]
  },
  {
   "cell_type": "code",
   "execution_count": 10,
   "id": "4a492a3a",
   "metadata": {},
   "outputs": [
    {
     "name": "stdout",
     "output_type": "stream",
     "text": [
      "   SepalLengthCm  SepalWidthCm  PetalLengthCm  PetalWidthCm      Species\n",
      "0            5.1           3.5            1.4           0.2  Iris-setosa\n",
      "1            4.9           3.0            1.4           0.2  Iris-setosa\n",
      "2            4.7           3.2            1.3           0.2  Iris-setosa\n",
      "3            4.6           3.1            1.5           0.2  Iris-setosa\n",
      "4            5.0           3.6            1.4           0.2  Iris-setosa\n"
     ]
    }
   ],
   "source": [
    "iris=pd.DataFrame(data)               #dropping Id column\n",
    "iris_df=iris.drop(columns=[\"Id\"])\n",
    "\n",
    "print(iris_df.head())"
   ]
  },
  {
   "cell_type": "markdown",
   "id": "b4d8bcd9",
   "metadata": {},
   "source": [
    "## Checking for outliers"
   ]
  },
  {
   "cell_type": "code",
   "execution_count": 5,
   "id": "cc1e5990",
   "metadata": {},
   "outputs": [
    {
     "data": {
      "image/png": "[encoded data removed]",
      "text/plain": [
       "<Figure size 720x576 with 1 Axes>"
      ]
     },
     "metadata": {
      "needs_background": "light"
     },
     "output_type": "display_data"
    }
   ],
   "source": [
    "# Checking for outliers by boxplot\n",
    "\n",
    "plt.rcParams[\"figure.figsize\"]=(10,8)\n",
    "iris_df.plot(kind=\"box\")\n",
    "plt.show()"
   ]
  },
  {
   "cell_type": "markdown",
   "id": "0b31b6ec",
   "metadata": {},
   "source": [
    "#### Outliers present in this data thats dot are\n",
    "#### The lower and upper level outlier wiil be replaced by the 5th and 95th percentile respectively.\n",
    "\n",
    "#### Only Sepalwidth has some outliers. We now remove the outliers\n"
   ]
  },
  {
   "cell_type": "markdown",
   "id": "24d6f53e",
   "metadata": {},
   "source": [
    "## Removing the outliers using IQR method\n"
   ]
  },
  {
   "cell_type": "code",
   "execution_count": 6,
   "id": "e0448049",
   "metadata": {},
   "outputs": [],
   "source": [
    "Q1=iris_df.quantile(0.25)\n",
    "Q3=iris_df.quantile(0.75)\n",
    "IQR=Q3-Q1\n",
    "iris_df=iris_df[~((iris_df<(Q1-1.5*IQR)) | (iris_df>(Q3+1.5*IQR))).any(axis=1)]\n"
   ]
  },
  {
   "cell_type": "code",
   "execution_count": 19,
   "id": "215d7829",
   "metadata": {},
   "outputs": [
    {
     "data": {
      "image/png": "[encoded data removed]",
      "text/plain": [
       "<Figure size 720x576 with 1 Axes>"
      ]
     },
     "metadata": {
      "needs_background": "light"
     },
     "output_type": "display_data"
    }
   ],
   "source": [
    "plt.rcParams[\"figure.figsize\"]=(10,8)\n",
    "iris_df.plot(kind=\"box\")\n",
    "plt.show()"
   ]
  },
  {
   "cell_type": "markdown",
   "id": "a03accf9",
   "metadata": {},
   "source": [
    "#### Now our data is free from Outliers"
   ]
  },
  {
   "cell_type": "markdown",
   "id": "7695c993",
   "metadata": {},
   "source": [
    "## Correlation Matrix"
   ]
  },
  {
   "cell_type": "code",
   "execution_count": 7,
   "id": "a07fecc9",
   "metadata": {},
   "outputs": [
    {
     "data": {
      "text/plain": [
       "<AxesSubplot:>"
      ]
     },
     "execution_count": 7,
     "metadata": {},
     "output_type": "execute_result"
    },
    {
     "data": {
      "image/png": "[encoded data removed]",
      "text/plain": [
       "<Figure size 720x360 with 2 Axes>"
      ]
     },
     "metadata": {
      "needs_background": "light"
     },
     "output_type": "display_data"
    }
   ],
   "source": [
    "plt.figure(figsize=(10,5))\n",
    "sns.heatmap(abs(data.corr()), cmap='GnBu', annot=True)"
   ]
  },
  {
   "cell_type": "markdown",
   "id": "66b7734a",
   "metadata": {},
   "source": [
    "#### From the above heatmap, we can see that high correlation exists between the following:\n",
    "\n",
    "#### A. Petal Length & Sepal Length\n",
    "#### B. Petal Width & Sepal Length\n",
    "#### C. Petal Width & Petal Length\n"
   ]
  },
  {
   "cell_type": "markdown",
   "id": "3dd6e825",
   "metadata": {},
   "source": [
    "# K-Means clustering"
   ]
  },
  {
   "cell_type": "markdown",
   "id": "5a47e1ba",
   "metadata": {},
   "source": [
    "#### Let us perform the centroid-based clustering algorithm called K-Mean clustering. Here we perform the K-Mean clustering by using Elbow method"
   ]
  },
  {
   "cell_type": "markdown",
   "id": "d47c1428",
   "metadata": {},
   "source": [
    "## Optimal value of K using Elbow plot"
   ]
  },
  {
   "cell_type": "code",
   "execution_count": 8,
   "id": "cf31a5cc",
   "metadata": {},
   "outputs": [],
   "source": [
    "x=iris_df.iloc[:,[0,1,2,3]].values"
   ]
  },
  {
   "cell_type": "code",
   "execution_count": 9,
   "id": "71848aa5",
   "metadata": {},
   "outputs": [
    {
     "data": {
      "text/plain": [
       "[655.0325342465754,\n",
       " 143.860075,\n",
       " 73.51656472013659,\n",
       " 53.3048778073286,\n",
       " 42.54863475177305,\n",
       " 36.50818840579711,\n",
       " 31.74186517347387,\n",
       " 28.335926501035203,\n",
       " 26.432709527949804,\n",
       " 24.827200643559344]"
      ]
     },
     "execution_count": 9,
     "metadata": {},
     "output_type": "execute_result"
    }
   ],
   "source": [
    "from sklearn.cluster  import KMeans\n",
    "\n",
    "wcss=[]\n",
    "K=range(1,11)\n",
    "for i in K:\n",
    "    kmeans=KMeans(n_clusters=i,init='k-means++',\n",
    "                 max_iter=300,n_init=10,random_state=0)\n",
    "    kmeans=kmeans.fit(x)\n",
    "    wcss.append(kmeans.inertia_)\n",
    "wcss"
   ]
  },
  {
   "cell_type": "code",
   "execution_count": 23,
   "id": "a8c245fd",
   "metadata": {},
   "outputs": [
    {
     "data": {
      "image/png": "[encoded data removed]",
      "text/plain": [
       "<Figure size 720x576 with 1 Axes>"
      ]
     },
     "metadata": {
      "needs_background": "light"
     },
     "output_type": "display_data"
    }
   ],
   "source": [
    "plt.plot(K,wcss,\"go--\")\n",
    "\n",
    "plt.title(\"The Elbow Method for optimal K\")\n",
    "plt.xlabel(\"Number of clusters\")\n",
    "plt.ylabel(\"Wihtin Clusters sum of squares(WCSS)\")\n",
    "plt.annotate(\"Elbow\",xytext=(4,200),xy=(2.4,120),arrowprops={\"facecolor\":\"blue\"})\n",
    "plt.grid()\n",
    "plt.show()"
   ]
  },
  {
   "cell_type": "markdown",
   "id": "3915ca9f",
   "metadata": {},
   "source": [
    "In the above plot, the Elbow point is represented by the arrow and the elbow occurs by 3 points Elbow plot is plotted with the value of k on the x-axis and the WCSS(Within Cluters Sum of Squares) on the y-axis.\n",
    "\n",
    "Hence, the Elbow method shows that optimum value for k is 3."
   ]
  },
  {
   "cell_type": "markdown",
   "id": "0f42c469",
   "metadata": {},
   "source": [
    "## K Means Cluster Data Visualization"
   ]
  },
  {
   "cell_type": "code",
   "execution_count": 10,
   "id": "4ae0ea1e",
   "metadata": {},
   "outputs": [
    {
     "name": "stdout",
     "output_type": "stream",
     "text": [
      "[1 1 1 1 1 1 1 1 1 1 1 1 1 1 1 1 1 1 1 1 1 1 1 1 1 1 1 1 1 1 1 1 1 1 1 1 1\n",
      " 1 1 1 1 1 1 1 1 1 1 0 0 2 0 0 0 0 0 0 0 0 0 0 0 0 0 0 0 0 0 0 0 0 0 0 0 2\n",
      " 0 0 0 0 0 0 0 0 0 0 0 0 0 0 0 0 0 0 0 0 0 0 2 0 2 2 2 2 0 2 2 2 2 2 2 0 0\n",
      " 2 2 2 2 0 2 0 2 0 2 2 0 0 2 2 2 2 2 0 2 2 2 2 0 2 2 2 0 2 2 2 0 2 2 0]\n"
     ]
    }
   ],
   "source": [
    "kmeans=KMeans(n_clusters=3, init='k-means++',\n",
    "                max_iter=300,n_init=10,random_state=0)\n",
    "\n",
    "y_kmeans=kmeans.fit_predict(x)\n",
    "\n",
    "print(y_kmeans)"
   ]
  },
  {
   "cell_type": "code",
   "execution_count": 12,
   "id": "40093ddc",
   "metadata": {},
   "outputs": [
    {
     "data": {
      "image/png": "[encoded data removed]",
      "text/plain": [
       "<Figure size 720x576 with 1 Axes>"
      ]
     },
     "metadata": {
      "needs_background": "light"
     },
     "output_type": "display_data"
    }
   ],
   "source": [
    "plt.scatter(x[y_kmeans == 0 ,0], x[y_kmeans==0,1], \n",
    "           s= 100 , c= \"red\" , label = \"Iris_setosa\")\n",
    "plt.scatter(x[y_kmeans == 1 ,0], x[y_kmeans==1,1], \n",
    "           s= 100 , c= \"blue\" , label = \"Iris_versicolour\")\n",
    "plt.scatter(x[y_kmeans == 2 ,0], x[y_kmeans==2,1], \n",
    "           s= 100 , c= \"green\" , label = \"Iris_virginica\")\n",
    "\n",
    "\n",
    "# Plotting the centroids the clusters \n",
    "plt.scatter(kmeans.cluster_centers_[:,0], kmeans.cluster_centers_[:,1], \n",
    "           s= 100 , c= \"yellow\" , label = \"Centroids\")\n",
    " \n",
    "plt.legend(loc=1,bbox_to_anchor=(1.35,1),prop={\"size\":15})\n",
    "plt.show()"
   ]
  },
  {
   "cell_type": "code",
   "execution_count": 11,
   "id": "51061905",
   "metadata": {},
   "outputs": [
    {
     "data": {
      "image/png": "[encoded data removed]",
      "text/plain": [
       "<Figure size 720x576 with 1 Axes>"
      ]
     },
     "metadata": {
      "needs_background": "light"
     },
     "output_type": "display_data"
    }
   ],
   "source": [
    "plt.scatter(x[y_kmeans == 0 ,2], x[y_kmeans==0,3], \n",
    "           s= 100 , c= \"red\" , label = \"Iris_setosa\")\n",
    "plt.scatter(x[y_kmeans == 1 ,2], x[y_kmeans==1,3], \n",
    "           s=100 , c= \"blue\" , label = \"Iris_versicolour\")\n",
    "plt.scatter(x[y_kmeans == 2 ,2], x[y_kmeans==2,3], \n",
    "           s= 100 , c= \"green\" , label = \"Iris_virginica\")\n",
    "\n",
    "\n",
    "# Plotting the centroids the clusters \n",
    "plt.scatter(kmeans.cluster_centers_[:,2], kmeans.cluster_centers_[:,3], \n",
    "           s= 100 , c= \"yellow\" , label = \"Centroids\")\n",
    " \n",
    "plt.legend(loc=1,bbox_to_anchor=(1.35,1),prop={\"size\":15})\n",
    "plt.show()"
   ]
  },
  {
   "cell_type": "markdown",
   "id": "563bca28",
   "metadata": {},
   "source": [
    "#### Thus, we have predicted the optimum number of clusters and represented it visually."
   ]
  },
  {
   "cell_type": "markdown",
   "id": "dd998600",
   "metadata": {},
   "source": [
    "# Thank You...!!!"
   ]
  }
 ],
 "metadata": {
  "kernelspec": {
   "display_name": "Python 3 (ipykernel)",
   "language": "python",
   "name": "python3"
  },
  "language_info": {
   "codemirror_mode": {
    "name": "ipython",
    "version": 3
   },
   "file_extension": ".py",
   "mimetype": "text/x-python",
   "name": "python",
   "nbconvert_exporter": "python",
   "pygments_lexer": "ipython3",
   "version": "3.9.12"
  }
 },
 "nbformat": 4,
 "nbformat_minor": 5
}
